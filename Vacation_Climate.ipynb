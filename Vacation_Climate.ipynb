{
 "cells": [
  {
   "cell_type": "code",
   "execution_count": 1,
   "metadata": {},
   "outputs": [],
   "source": [
    "%matplotlib inline\n",
    "from matplotlib import style\n",
    "style.use('fivethirtyeight')\n",
    "import matplotlib.pyplot as plt\n",
    "from datetime import datetime, date\n",
    "from dateutil.relativedelta import relativedelta\n",
    "import scipy.stats as sts"
   ]
  },
  {
   "cell_type": "code",
   "execution_count": 2,
   "metadata": {},
   "outputs": [],
   "source": [
    "import numpy as np\n",
    "import pandas as pd"
   ]
  },
  {
   "cell_type": "markdown",
   "metadata": {},
   "source": [
    "# Reflect Tables into SQLAlchemy ORM"
   ]
  },
  {
   "cell_type": "code",
   "execution_count": 3,
   "metadata": {},
   "outputs": [],
   "source": [
    "# Python SQL toolkit and Object Relational Mapper\n",
    "import sqlalchemy\n",
    "from sqlalchemy.ext.automap import automap_base\n",
    "from sqlalchemy.orm import Session\n",
    "from sqlalchemy import create_engine, func, inspect"
   ]
  },
  {
   "cell_type": "code",
   "execution_count": 4,
   "metadata": {},
   "outputs": [],
   "source": [
    "# create engine to hawaii.sqlite\n",
    "engine = create_engine(\"sqlite:///hawaii.sqlite\")"
   ]
  },
  {
   "cell_type": "code",
   "execution_count": 5,
   "metadata": {},
   "outputs": [
    {
     "data": {
      "text/plain": [
       "['measurement', 'station']"
      ]
     },
     "execution_count": 5,
     "metadata": {},
     "output_type": "execute_result"
    }
   ],
   "source": [
    "# reflect an existing database into a new model\n",
    "base = automap_base()\n",
    "base.prepare(engine, reflect=True)\n",
    "inspector = inspect(engine)\n",
    "\n",
    "# reflect the tables\n",
    "inspector.get_table_names()"
   ]
  },
  {
   "cell_type": "code",
   "execution_count": 6,
   "metadata": {},
   "outputs": [
    {
     "data": {
      "text/plain": [
       "['measurement', 'station']"
      ]
     },
     "execution_count": 6,
     "metadata": {},
     "output_type": "execute_result"
    }
   ],
   "source": [
    "# View all of the classes that automap found\n",
    "base.classes.keys()"
   ]
  },
  {
   "cell_type": "code",
   "execution_count": 7,
   "metadata": {},
   "outputs": [],
   "source": [
    "# Save references to each table\n",
    "measurements = base.classes.measurement\n",
    "stations = base.classes.station"
   ]
  },
  {
   "cell_type": "code",
   "execution_count": 8,
   "metadata": {},
   "outputs": [],
   "source": [
    "# Create our session (link) from Python to the DB\n",
    "session = Session(engine)"
   ]
  },
  {
   "cell_type": "markdown",
   "metadata": {},
   "source": [
    "# Exploratory Precipitation Analysis"
   ]
  },
  {
   "cell_type": "code",
   "execution_count": 9,
   "metadata": {},
   "outputs": [],
   "source": [
    "# Check columns for measurement table.\n",
    "columns_m = inspector.get_columns('measurement')\n",
    "columns_s = inspector.get_columns('station')"
   ]
  },
  {
   "cell_type": "code",
   "execution_count": 10,
   "metadata": {},
   "outputs": [
    {
     "name": "stdout",
     "output_type": "stream",
     "text": [
      "id INTEGER\n",
      "station TEXT\n",
      "date TEXT\n",
      "prcp FLOAT\n",
      "tobs FLOAT\n"
     ]
    }
   ],
   "source": [
    "for column in columns_m:\n",
    "    print(column[\"name\"], column[\"type\"])"
   ]
  },
  {
   "cell_type": "code",
   "execution_count": 11,
   "metadata": {},
   "outputs": [
    {
     "name": "stdout",
     "output_type": "stream",
     "text": [
      "id INTEGER\n",
      "station TEXT\n",
      "name TEXT\n",
      "latitude FLOAT\n",
      "longitude FLOAT\n",
      "elevation FLOAT\n"
     ]
    }
   ],
   "source": [
    "for column in columns_s:\n",
    "    print(column[\"name\"], column[\"type\"])"
   ]
  },
  {
   "cell_type": "code",
   "execution_count": 12,
   "metadata": {},
   "outputs": [
    {
     "data": {
      "text/plain": [
       "('2017-08-23')"
      ]
     },
     "execution_count": 12,
     "metadata": {},
     "output_type": "execute_result"
    }
   ],
   "source": [
    "# Find the most recent date in the data set.\n",
    "recent_date = session.query(measurements.date).order_by(measurements.date.desc()).first()\n",
    "\n",
    "recent_date"
   ]
  },
  {
   "cell_type": "code",
   "execution_count": 13,
   "metadata": {},
   "outputs": [
    {
     "data": {
      "image/png": "[encoded data removed]",
      "text/plain": [
       "<Figure size 1224x216 with 1 Axes>"
      ]
     },
     "metadata": {},
     "output_type": "display_data"
    }
   ],
   "source": [
    "# Design a query to retrieve the last 12 months of precipitation data and plot the results. \n",
    "# Starting from the most recent data point in the database. \n",
    "last_date = session.query(measurements.date).\\\n",
    "    order_by(measurements.date.asc()).first()\n",
    "\n",
    "# Calculate the date one year from the last date in data set.\n",
    "date(2017,8,23)+relativedelta(months=+12)\n",
    "\n",
    "# Perform a query to retrieve the data and precipitation scores\n",
    "precipitation_scores = session.query(measurements.date, measurements.prcp).\\\n",
    "    order_by(measurements.date.asc()).first()\n",
    "\n",
    "# Save the query results as a Pandas DataFrame and set the index to the date column\n",
    "stmt = session.query(measurements.date, measurements.prcp).\\\n",
    "    filter(measurements.date <= '2017-08-23').\\\n",
    "    filter(measurements.date >= '2016-08-23').\\\n",
    "    order_by(measurements.date.desc()).statement\n",
    "precipitation = pd.read_sql_query(stmt, session.bind)\n",
    "precipitation = precipitation.dropna(how='any')\n",
    "precipitation.set_index('date', inplace=True, )\n",
    "precipitation\n",
    "\n",
    "# Sort the dataframe by date\n",
    "\n",
    "\n",
    "# Use Pandas Plotting with Matplotlib to plot the data\n",
    "x_axis = precipitation.index.values\n",
    "plt.figure(figsize=(17,3))\n",
    "plt.bar(x_axis, precipitation['prcp'], alpha=0.9)\n",
    "tick_locations = [value for value in x_axis]\n",
    "plt.xticks(tick_locations, rotation=\"vertical\")\n",
    "plt.locator_params(nbins=9)\n",
    "plt.title(\"Yearly Precipitation\")\n",
    "plt.xlabel(\"Date\")\n",
    "plt.ylabel(\"Precipitation by Inches\")\n",
    "plt.savefig(\"Precipitation.png\")\n",
    "plt.show()\n",
    "\n"
   ]
  },
  {
   "cell_type": "code",
   "execution_count": 14,
   "metadata": {},
   "outputs": [
    {
     "data": {
      "text/html": [
       "<div>\n",
       "<style scoped>\n",
       "    .dataframe tbody tr th:only-of-type {\n",
       "        vertical-align: middle;\n",
       "    }\n",
       "\n",
       "    .dataframe tbody tr th {\n",
       "        vertical-align: top;\n",
       "    }\n",
       "\n",
       "    .dataframe thead th {\n",
       "        text-align: right;\n",
       "    }\n",
       "</style>\n",
       "<table border=\"1\" class=\"dataframe\">\n",
       "  <thead>\n",
       "    <tr style=\"text-align: right;\">\n",
       "      <th></th>\n",
       "      <th>prcp</th>\n",
       "    </tr>\n",
       "  </thead>\n",
       "  <tbody>\n",
       "    <tr>\n",
       "      <th>count</th>\n",
       "      <td>2021.000</td>\n",
       "    </tr>\n",
       "    <tr>\n",
       "      <th>mean</th>\n",
       "      <td>0.177</td>\n",
       "    </tr>\n",
       "    <tr>\n",
       "      <th>std</th>\n",
       "      <td>0.461</td>\n",
       "    </tr>\n",
       "    <tr>\n",
       "      <th>min</th>\n",
       "      <td>0.000</td>\n",
       "    </tr>\n",
       "    <tr>\n",
       "      <th>25%</th>\n",
       "      <td>0.000</td>\n",
       "    </tr>\n",
       "    <tr>\n",
       "      <th>50%</th>\n",
       "      <td>0.020</td>\n",
       "    </tr>\n",
       "    <tr>\n",
       "      <th>75%</th>\n",
       "      <td>0.130</td>\n",
       "    </tr>\n",
       "    <tr>\n",
       "      <th>max</th>\n",
       "      <td>6.700</td>\n",
       "    </tr>\n",
       "  </tbody>\n",
       "</table>\n",
       "</div>"
      ],
      "text/plain": [
       "           prcp\n",
       "count  2021.000\n",
       "mean      0.177\n",
       "std       0.461\n",
       "min       0.000\n",
       "25%       0.000\n",
       "50%       0.020\n",
       "75%       0.130\n",
       "max       6.700"
      ]
     },
     "execution_count": 14,
     "metadata": {},
     "output_type": "execute_result"
    }
   ],
   "source": [
    "# Use Pandas to calcualte the summary statistics for the precipitation data\n",
    "precip_summary = precipitation.describe()\n",
    "precip_summary.round(3)"
   ]
  },
  {
   "cell_type": "markdown",
   "metadata": {},
   "source": [
    "# Exploratory Station Analysis"
   ]
  },
  {
   "cell_type": "code",
   "execution_count": 15,
   "metadata": {},
   "outputs": [
    {
     "data": {
      "text/plain": [
       "9"
      ]
     },
     "execution_count": 15,
     "metadata": {},
     "output_type": "execute_result"
    }
   ],
   "source": [
    "# Design a query to calculate the total number stations in the dataset\n",
    "total_stations = session.query(stations.station).count()\n",
    "total_stations"
   ]
  },
  {
   "cell_type": "code",
   "execution_count": 16,
   "metadata": {},
   "outputs": [
    {
     "data": {
      "text/plain": [
       "[('USC00511918', 1932),\n",
       " ('USC00513117', 2696),\n",
       " ('USC00514830', 1937),\n",
       " ('USC00516128', 2484),\n",
       " ('USC00517948', 683),\n",
       " ('USC00518838', 342),\n",
       " ('USC00519281', 2772),\n",
       " ('USC00519397', 2685),\n",
       " ('USC00519523', 2572)]"
      ]
     },
     "execution_count": 16,
     "metadata": {},
     "output_type": "execute_result"
    }
   ],
   "source": [
    "# Design a query to find the most active stations (i.e. what stations have the most rows?)\n",
    "# List the stations and the counts in descending order.\n",
    "active_stations = session.query(measurements.station, func.count(measurements.prcp)).group_by(measurements.station).all()\n",
    "active_stations"
   ]
  },
  {
   "cell_type": "code",
   "execution_count": 17,
   "metadata": {},
   "outputs": [
    {
     "name": "stdout",
     "output_type": "stream",
     "text": [
      "The lowest temperature for station USC00519281 is [(54.0,)]. The highest is [(85.0,)]. The average is [(71.66378066378067,)].\n"
     ]
    }
   ],
   "source": [
    "# Using the most active station id from the previous query, calculate the lowest, highest, and average temperature.\n",
    "avg_temp = session.query(func.avg(measurements.tobs)).\\\n",
    "    filter(measurements.station == 'USC00519281').all()\n",
    "max_temp = session.query(func.max(measurements.tobs)).\\\n",
    "    filter(measurements.station == 'USC00519281').all()\n",
    "min_temp = session.query(func.min(measurements.tobs)).\\\n",
    "    filter(measurements.station == 'USC00519281').all()\n",
    "print(f'The lowest temperature for station USC00519281 is {min_temp}. The highest is {max_temp}. The average is {avg_temp}.')"
   ]
  },
  {
   "cell_type": "code",
   "execution_count": 24,
   "metadata": {},
   "outputs": [
    {
     "data": {
      "image/png": "[encoded data removed]",
      "text/plain": [
       "<Figure size 1224x216 with 1 Axes>"
      ]
     },
     "metadata": {},
     "output_type": "display_data"
    }
   ],
   "source": [
    "# Using the most active station id\n",
    "# Query the last 12 months of temperature observation data for this station and plot the results as a histogram\n",
    "temps = session.query(measurements.tobs).\\\n",
    "    filter(measurements.date <= '2017-08-23').\\\n",
    "    filter(measurements.date >= '2016-08-23').\\\n",
    "    filter(measurements.station == 'USC00519281').all()\n",
    "    \n",
    "tobs = [77.0, 77.0, 80.0, 80.0, 75.0, 73.0, 78.0, 77.0, 78.0, 80.0, 80.0, 78.0, 78.0, 78.0,\n",
    "     73.0, 74.0, 80.0, 79.0, 77.0, 80.0,  76.0,  79.0,  75.0,  79.0, 78.0, 79.0, 78.0, 78.0,\n",
    "     76.0, 74.0, 77.0, 78.0, 79.0, 79.0, 77.0, 80.0, 78.0, 78.0, 78.0, 77.0, 79.0, 79.0, 79.0,\n",
    "     79.0, 75.0, 76.0, 73.0, 72.0, 71.0, 77.0, 79.0, 78.0, 79.0, 77.0, 79.0, 77.0, 78.0, 78.0,\n",
    "     78.0, 78.0, 77.0, 74.0, 75.0, 76.0, 73.0, 76.0, 74.0, 77.0, 76.0, 76.0, 74.0, 75.0, 75.0,\n",
    "     75.0, 75.0, 71.0, 63.0, 70.0, 68.0, 67.0, 77.0, 74.0, 77.0, 76.0, 76.0, 75.0, 76.0, 75.0,\n",
    "     73.0, 75.0, 73.0, 75.0, 74.0, 75.0, 74.0, 75.0, 73.0, 75.0, 73.0, 73.0, 74.0, 70.0, 72.0,\n",
    "     70.0, 67.0, 67.0, 69.0, 70.0, 68.0, 69.0, 69.0, 66.0, 65.0, 68.0, 62.0, 75.0, 70.0, 69.0,\n",
    "     76.0, 76.0, 74.0, 73.0, 71.0, 74.0, 74.0, 72.0, 71.0, 72.0, 74.0, 69.0, 67.0, 72.0, 70.0,\n",
    "     64.0, 63.0, 63.0, 62.0, 70.0, 70.0, 62.0, 62.0, 63.0, 65.0, 69.0, 77.0, 70.0, 74.0, 69.0,\n",
    "     72.0, 71.0, 69.0, 71.0, 71.0, 72.0, 72.0, 69.0, 70.0, 66.0, 65.0, 69.0, 68.0, 68.0, 68.0,\n",
    "     59.0, 60.0, 70.0, 73.0, 75.0, 64.0, 59.0, 59.0, 62.0, 68.0, 70.0, 73.0, 79.0, 75.0, 65.0,\n",
    "     70.0, 74.0, 70.0, 70.0, 71.0, 71.0, 71.0, 69.0, 61.0, 67.0, 65.0, 72.0, 71.0, 73.0, 72.0,\n",
    "     77.0, 73.0, 67.0, 62.0, 64.0, 67.0, 66.0, 81.0, 69.0, 66.0, 67.0, 69.0, 66.0, 68.0, 65.0,\n",
    "     74.0, 69.0, 72.0, 73.0, 72.0, 71.0, 76.0, 77.0, 76.0, 74.0, 68.0, 73.0, 71.0, 74.0, 75.0,\n",
    "     70.0, 67.0, 71.0, 67.0, 74.0, 77.0, 78.0, 67.0, 70.0, 69.0, 69.0, 74.0, 78.0, 71.0, 67.0,\n",
    "     68.0, 67.0, 76.0, 69.0, 72.0, 76.0, 68.0, 72.0, 74.0, 70.0, 67.0, 72.0, 60.0, 65.0, 75.0,\n",
    "     70.0, 75.0, 70.0, 79.0, 75.0, 70.0, 67.0, 74.0, 70.0, 75.0, 76.0, 77.0, 74.0, 74.0, 74.0,\n",
    "     69.0, 68.0, 76.0, 74.0, 71.0, 71.0, 74.0, 74.0, 74.0, 74.0, 80.0, 74.0, 72.0, 75.0, 80.0,\n",
    "     76.0, 76.0, 77.0, 75.0, 75.0, 75.0, 75.0, 72.0, 74.0, 74.0, 74.0, 76.0, 74.0, 75.0, 73.0,\n",
    "     79.0, 75.0, 72.0, 72.0, 74.0, 72.0, 72.0, 77.0, 71.0, 73.0, 76.0, 77.0, 76.0, 76.0, 79.0,\n",
    "     81.0, 76.0, 78.0, 77.0, 74.0, 75.0, 78.0, 78.0, 69.0, 72.0, 74.0, 74.0, 76.0, 80.0, 80.0,\n",
    "     76.0, 76.0, 76.0, 77.0, 77.0, 77.0, 82.0, 75.0, 77.0, 75.0, 76.0, 81.0, 82.0, 81.0, 76.0,\n",
    "     77.0, 82.0, 83.0, 77.0, 77.0, 77.0, 76.0, 76.0, 79.0]\n",
    "\n",
    "#create histogram from temp data\n",
    "plt.figure(figsize=(17,3), facecolor=\"red\")\n",
    "plt.hist(tobs, bins=12)\n",
    "plt.title(\"Temp. Frequency\")\n",
    "plt.xlabel(\"Temperatures\")\n",
    "plt.ylabel(\"Frequency\")\n",
    "plt.savefig(\"Temp_Frequency.png\")\n",
    "plt.show()"
   ]
  },
  {
   "cell_type": "markdown",
   "metadata": {},
   "source": [
    "# Close session"
   ]
  },
  {
   "cell_type": "code",
   "execution_count": 25,
   "metadata": {},
   "outputs": [],
   "source": [
    "# Close Session\n",
    "session.close()"
   ]
  }
 ],
 "metadata": {
  "anaconda-cloud": {},
  "kernel_info": {
   "name": "python3"
  },
  "kernelspec": {
   "display_name": "pythondata",
   "language": "python",
   "name": "pythondata"
  },
  "language_info": {
   "codemirror_mode": {
    "name": "ipython",
    "version": 3
   },
   "file_extension": ".py",
   "mimetype": "text/x-python",
   "name": "python",
   "nbconvert_exporter": "python",
   "pygments_lexer": "ipython3",
   "version": "3.6.10"
  },
  "nteract": {
   "version": "0.12.3"
  },
  "varInspector": {
   "cols": {
    "lenName": 16,
    "lenType": 16,
    "lenVar": 40
   },
   "kernels_config": {
    "python": {
     "delete_cmd_postfix": "",
     "delete_cmd_prefix": "del ",
     "library": "var_list.py",
     "varRefreshCmd": "print(var_dic_list())"
    },
    "r": {
     "delete_cmd_postfix": ") ",
     "delete_cmd_prefix": "rm(",
     "library": "var_list.r",
     "varRefreshCmd": "cat(var_dic_list()) "
    }
   },
   "types_to_exclude": [
    "module",
    "function",
    "builtin_function_or_method",
    "instance",
    "_Feature"
   ],
   "window_display": false
  }
 },
 "nbformat": 4,
 "nbformat_minor": 2
}
